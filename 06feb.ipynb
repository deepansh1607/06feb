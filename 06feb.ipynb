{
 "cells": [
  {
   "cell_type": "code",
   "execution_count": null,
   "id": "1f4df092-eff4-4c58-8b29-ffb7467e6107",
   "metadata": {},
   "outputs": [],
   "source": [
    "Ans 5: The while loop in Python is used for repeated execution of a block of code as long as a specified condition remains true. It is particularly useful when you do not know in advance how many times you need to iterate through the loop, and the number of iterations depends on dynamic conditions.\n",
    "\n",
    "Why Use a while Loop:\n",
    "Indeterminate Number of Iterations: When the number of iterations is not known beforehand and depends on a condition that is evaluated at runtime.\n",
    "Conditional Execution: When you need to execute a block of code repeatedly until a certain condition is met.\n",
    "Event-Driven Execution: Useful in situations where the loop needs to continue until a specific event or state occurs.\n",
    "When to Use a while Loop:\n",
    "Condition-Based Repetition: Use a while loop when the loop should continue running as long as a particular condition remains true. The condition is checked before each iteration, and if it evaluates to False, the loop exits.\n",
    "Infinite Loops: If you want a loop to run indefinitely until manually stopped or until an internal break condition is met, a while loop can be used. Be cautious with infinite loops to ensure they have a proper exit condition to avoid endless execution.\n",
    "Dynamic Data Handling: When dealing with data that changes during execution and requires repeated processing until a specific state is reached."
   ]
  },
  {
   "cell_type": "code",
   "execution_count": null,
   "id": "4f2b5d4b-bc81-402c-8086-0aadcb343ca9",
   "metadata": {},
   "outputs": [],
   "source": [
    "Ans 6: def print_right_angle_triangle(n):\n",
    "    i = 1\n",
    "    while i <= n:\n",
    "        j = 1\n",
    "        while j <= i:\n",
    "            print('*', end='')\n",
    "            j += 1\n",
    "        print()  # Move to the next line\n",
    "        i += 1\n",
    "\n",
    "# Usage\n",
    "print_right_angle_triangle(4)\n",
    "\n",
    "\n",
    "\n",
    "\n",
    "\n"
   ]
  },
  {
   "cell_type": "code",
   "execution_count": null,
   "id": "da6b670d-2653-44e1-a9ff-b2aec5d63293",
   "metadata": {},
   "outputs": [],
   "source": [
    "def print_square(n):\n",
    "    i = 1\n",
    "    while i <= n:\n",
    "        j = 1\n",
    "        while j <= n:\n",
    "            print('*', end='')\n",
    "            j += 1\n",
    "        print()  # Move to the next line\n",
    "        i += 1\n",
    "\n",
    "# Usage\n",
    "print_square(4)\n"
   ]
  },
  {
   "cell_type": "code",
   "execution_count": null,
   "id": "f6143fcc-807e-417d-86e0-671f73482b67",
   "metadata": {},
   "outputs": [],
   "source": []
  },
  {
   "cell_type": "code",
   "execution_count": null,
   "id": "a723f529-dd98-47d4-93ae-ccd7ad1c6e4a",
   "metadata": {},
   "outputs": [],
   "source": []
  }
 ],
 "metadata": {
  "kernelspec": {
   "display_name": "Python 3 (ipykernel)",
   "language": "python",
   "name": "python3"
  },
  "language_info": {
   "codemirror_mode": {
    "name": "ipython",
    "version": 3
   },
   "file_extension": ".py",
   "mimetype": "text/x-python",
   "name": "python",
   "nbconvert_exporter": "python",
   "pygments_lexer": "ipython3",
   "version": "3.10.8"
  }
 },
 "nbformat": 4,
 "nbformat_minor": 5
}
